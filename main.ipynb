{
 "cells": [
  {
   "cell_type": "code",
   "execution_count": 89,
   "metadata": {},
   "outputs": [],
   "source": [
    "import pandas as pd\n",
    "import json\n",
    "from datetime import datetime, timedelta"
   ]
  },
  {
   "cell_type": "code",
   "execution_count": 90,
   "metadata": {},
   "outputs": [],
   "source": [
    "data = pd.read_csv(\"DE Assessment/data.csv\")"
   ]
  },
  {
   "cell_type": "code",
   "execution_count": 91,
   "metadata": {},
   "outputs": [],
   "source": [
    "def parse_contracts(contacts_str):\n",
    "    \"\"\"Parses the JSON string of contracts into a list of dictionaries.\"\"\"\n",
    "    if isinstance(contacts_str,str):\n",
    "        try:\n",
    "            return json.loads(contacts_str)\n",
    "        except json.JSONDecodeError:\n",
    "            return []\n",
    "    return[]"
   ]
  },
  {
   "cell_type": "code",
   "execution_count": 92,
   "metadata": {},
   "outputs": [],
   "source": [
    "def calculate_tot_claim_cnt_l180d(claims, days=180):\n",
    "    \"\"\"Counts the number of claims made in the last 180 days.\"\"\"\n",
    "    cutoff_date = datetime.now() - timedelta(days=days) \n",
    "    valid_claims = [\n",
    "        claim for claim in claims if isinstance(claim, dict) \n",
    "        and claim['claim_date'] \n",
    "        and datetime.strptime(claim['claim_date'], '%d.%m.%Y') >= cutoff_date\n",
    "    ]\n",
    "    return len(valid_claims) if valid_claims else -3  "
   ]
  },
  {
   "cell_type": "code",
   "execution_count": 93,
   "metadata": {},
   "outputs": [],
   "source": [
    "def calculate_disb_bank_loan_wo_tbc(loans):\n",
    "    \"\"\"Calculates the total exposure of loans excluding TBC loans.\"\"\"\n",
    "    return sum(\n",
    "        float(loan.get('loan_summa', 0)) for loan in loans \n",
    "        if isinstance(loan, dict) and loan.get('loan_summa') and loan.get('bank') not in ['LIZ', 'LOM', 'MKO', 'SUG', None]\n",
    "    ) or -1"
   ]
  },
  {
   "cell_type": "code",
   "execution_count": null,
   "metadata": {},
   "outputs": [],
   "source": [
    "def calculate_day_sinlastloan(loans, application_date):\n",
    "    \"\"\"Calculates the number of days since the last loan was taken.\"\"\"\n",
    "    if not isinstance(loans, list):\n",
    "        return -1 \n",
    "    \n",
    "    valid_loans = [\n",
    "        loan for loan in loans if isinstance(loan, dict) and loan['contract_date'] \n",
    "        and loan.get('loan_summa') is not None \n",
    "    ]\n",
    "    \n",
    "    if not valid_loans: \n",
    "        return -1\n",
    "    \n",
    "    last_loan_date = max(valid_loans, key=lambda loan: datetime.strptime(loan['contract_date'], '%d.%m.%Y'))['contract_date']\n",
    "    days_since_last_loan = (pd.to_datetime(application_date, errors='coerce').tz_localize(None) - datetime.strptime(last_loan_date, '%d.%m.%Y')).days\n",
    "    \n",
    "    return days_since_last_loan if days_since_last_loan >= 0 else -3"
   ]
  },
  {
   "cell_type": "code",
   "execution_count": null,
   "metadata": {},
   "outputs": [],
   "source": [
    "def process_and_save_data(file_csv):\n",
    "    \"\"\"Reads the dataset, applies calculations, and saves the output.\"\"\"\n",
    "    data = pd.read_csv(file_csv)\n",
    "\n",
    "    data['parsed_contracts'] = data['contracts'].apply(parse_contracts)\n",
    "\n",
    "    data['tot_claim_cnt_l180d'] = data['parsed_contracts'].apply(calculate_tot_claim_cnt_l180d)\n",
    "    data['disb_bank_loan_wo_tbc'] = data['parsed_contracts'].apply(calculate_disb_bank_loan_wo_tbc)\n",
    "    data['day_sinlastloan'] = data.apply(lambda row: calculate_day_sinlastloan(row['parsed_contracts'], row['application_date']), axis=1)\n",
    "\n",
    "\n",
    "    output_df = data[['id', 'application_date', 'tot_claim_cnt_l180d', 'disb_bank_loan_wo_tbc', 'day_sinlastloan']]\n",
    "    output_df.to_csv('contract_output.csv', index=False)\n",
    "\n"
   ]
  },
  {
   "cell_type": "code",
   "execution_count": 96,
   "metadata": {},
   "outputs": [
    {
     "name": "stdout",
     "output_type": "stream",
     "text": [
      "            id                  application_date  tot_claim_cnt_l180d  \\\n",
      "0    2925210.0  2024-02-12 19:22:46.652000+00:00                   -3   \n",
      "1    2925211.0  2024-02-12 19:24:29.135000+00:00                   -3   \n",
      "2    2925212.0  2024-02-12 19:24:41.493000+00:00                   -3   \n",
      "3    2925213.0  2024-02-12 19:24:29.135000+00:00                   -3   \n",
      "4    2925214.0  2024-02-12 19:24:56.857000+00:00                   -3   \n",
      "..         ...                               ...                  ...   \n",
      "995  2926205.0  2024-02-13 06:09:54.210000+00:00                   -3   \n",
      "996  2926206.0  2024-02-13 06:09:54.306000+00:00                   -3   \n",
      "997  2926207.0  2024-02-13 06:09:55.661000+00:00                   -3   \n",
      "998  2926208.0  2024-02-13 06:09:57.024000+00:00                   -3   \n",
      "999  2926209.0  2024-02-13 06:10:00.403000+00:00                   -3   \n",
      "\n",
      "     disb_bank_loan_wo_tbc  day_sinlastloan  \n",
      "0                     -1.0               -1  \n",
      "1                     -1.0              427  \n",
      "2                     -1.0               -1  \n",
      "3                     -1.0              427  \n",
      "4                     -1.0               -1  \n",
      "..                     ...              ...  \n",
      "995            217320883.0              729  \n",
      "996                   -1.0               -1  \n",
      "997                   -1.0               -1  \n",
      "998                   -1.0               -1  \n",
      "999                   -1.0               -1  \n",
      "\n",
      "[1000 rows x 5 columns]\n"
     ]
    }
   ],
   "source": [
    "if __name__ == \"__main__\":\n",
    "    process_and_save_data('DE Assessment/data.csv')"
   ]
  }
 ],
 "metadata": {
  "kernelspec": {
   "display_name": "Python 3",
   "language": "python",
   "name": "python3"
  },
  "language_info": {
   "codemirror_mode": {
    "name": "ipython",
    "version": 3
   },
   "file_extension": ".py",
   "mimetype": "text/x-python",
   "name": "python",
   "nbconvert_exporter": "python",
   "pygments_lexer": "ipython3",
   "version": "3.11.4"
  }
 },
 "nbformat": 4,
 "nbformat_minor": 2
}
